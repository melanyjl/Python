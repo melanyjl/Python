{
 "cells": [
  {
   "cell_type": "markdown",
   "metadata": {},
   "source": [
    "### Asset Ops\n",
    "# Production Forecast - 2023 Only"
   ]
  },
  {
   "cell_type": "markdown",
   "metadata": {},
   "source": []
  },
  {
   "cell_type": "markdown",
   "metadata": {},
   "source": [
    "<a id='Data_preparation'></a>\n",
    "## <font color='blue'>1.- Data Preparation </font>"
   ]
  },
  {
   "cell_type": "markdown",
   "metadata": {},
   "source": [
    "###### Production and Estimates\n",
    "1. Exclude 0\n",
    "2. Exclude NULL\n",
    "\n",
    "Exclude Estimates < 0  (152 records)\n",
    "\n",
    "\n"
   ]
  },
  {
   "cell_type": "markdown",
   "metadata": {},
   "source": [
    "<a id='symbols'></a>\n",
    "## Import packages"
   ]
  },
  {
   "cell_type": "code",
   "execution_count": 1,
   "metadata": {},
   "outputs": [],
   "source": [
    "import os\n",
    "import numpy as np\n",
    "import csv\n",
    "from datetime import datetime\n",
    "import pandas as pd\n",
    "from numpy import NaN as NA\n",
    "import numpy.random as random\n",
    "from sklearn.preprocessing import StandardScaler, MinMaxScaler, OneHotEncoder\n",
    "from sklearn.model_selection import cross_val_score\n",
    "from sklearn.compose import make_column_transformer\n",
    "from sklearn.model_selection import train_test_split\n",
    "from sklearn.metrics import accuracy_score\n",
    "from sklearn.metrics import mean_squared_error\n",
    "from statsmodels.stats.proportion import proportions_ztest\n",
    "from statsmodels.stats.weightstats import ttest_ind\n",
    "from sklearn.utils import compute_class_weight\n",
    "import matplotlib.pyplot as plt\n",
    "import seaborn as sns\n",
    "from sklearn.metrics import accuracy_score, recall_score, roc_curve, precision_score, f1_score\n",
    "from time import time\n",
    "\n",
    "%matplotlib inline\n",
    "sns.set_style('ticks')\n"
   ]
  },
  {
   "cell_type": "code",
   "execution_count": 2,
   "metadata": {},
   "outputs": [],
   "source": [
    "np.random.seed(30)\n",
    "random_state = 30"
   ]
  },
  {
   "cell_type": "markdown",
   "metadata": {},
   "source": [
    "## Open Source packages for ANN and MLP"
   ]
  },
  {
   "cell_type": "code",
   "execution_count": 3,
   "metadata": {},
   "outputs": [
    {
     "name": "stdout",
     "output_type": "stream",
     "text": [
      "WARNING:tensorflow:From C:\\Users\\mjimenez\\AppData\\Local\\Programs\\Python\\Python311\\Lib\\site-packages\\keras\\src\\losses.py:2976: The name tf.losses.sparse_softmax_cross_entropy is deprecated. Please use tf.compat.v1.losses.sparse_softmax_cross_entropy instead.\n",
      "\n"
     ]
    }
   ],
   "source": [
    "import tensorflow as tf\n",
    "# print(tf.__version__)"
   ]
  },
  {
   "cell_type": "code",
   "execution_count": 4,
   "metadata": {},
   "outputs": [],
   "source": [
    "from tensorflow import keras\n",
    "# print(keras.__version__)"
   ]
  },
  {
   "cell_type": "code",
   "execution_count": 5,
   "metadata": {},
   "outputs": [],
   "source": [
    "# this is so that results are replicable\n",
    "# DO NOT CHANGE THIS!!\n",
    "tf.random.set_seed(random_state)"
   ]
  },
  {
   "cell_type": "markdown",
   "metadata": {},
   "source": [
    "## Read data"
   ]
  },
  {
   "cell_type": "code",
   "execution_count": 6,
   "metadata": {},
   "outputs": [],
   "source": [
    "#Connect to the server\n",
    "import pyodbc \n",
    "server = 'data-platform-sql-dev-001.database.windows.net'\n",
    "database = 'data-platform-sqldb-dev-sandbox-impbkups'\n",
    "username = 'assetopspythn'\n",
    "password = 'A55tdv$py6'\n",
    "schema = 'aops'"
   ]
  },
  {
   "cell_type": "code",
   "execution_count": 7,
   "metadata": {},
   "outputs": [
    {
     "name": "stderr",
     "output_type": "stream",
     "text": [
      "C:\\Users\\mjimenez\\AppData\\Local\\Temp\\ipykernel_35100\\354422073.py:5: UserWarning: pandas only supports SQLAlchemy connectable (engine/connection) or database string URI or sqlite3 DBAPI2 connection. Other DBAPI2 objects are not tested. Please consider using SQLAlchemy.\n",
      "  df_prod_t = pd.read_sql_query(query, conn)\n"
     ]
    },
    {
     "data": {
      "text/html": [
       "<div>\n",
       "<style scoped>\n",
       "    .dataframe tbody tr th:only-of-type {\n",
       "        vertical-align: middle;\n",
       "    }\n",
       "\n",
       "    .dataframe tbody tr th {\n",
       "        vertical-align: top;\n",
       "    }\n",
       "\n",
       "    .dataframe thead th {\n",
       "        text-align: right;\n",
       "    }\n",
       "</style>\n",
       "<table border=\"1\" class=\"dataframe\">\n",
       "  <thead>\n",
       "    <tr style=\"text-align: right;\">\n",
       "      <th></th>\n",
       "      <th>system_id</th>\n",
       "      <th>prod_date</th>\n",
       "      <th>kWh</th>\n",
       "      <th>Est</th>\n",
       "      <th>Months</th>\n",
       "      <th>Years</th>\n",
       "      <th>pto_DATE_VAR</th>\n",
       "      <th>Age</th>\n",
       "    </tr>\n",
       "  </thead>\n",
       "  <tbody>\n",
       "    <tr>\n",
       "      <th>0</th>\n",
       "      <td>ELP0066995</td>\n",
       "      <td>2021-02-28</td>\n",
       "      <td>433.516</td>\n",
       "      <td>404.628</td>\n",
       "      <td>2</td>\n",
       "      <td>2021</td>\n",
       "      <td>2016-12-16 00:00:00</td>\n",
       "      <td>50</td>\n",
       "    </tr>\n",
       "    <tr>\n",
       "      <th>1</th>\n",
       "      <td>ELP0066995</td>\n",
       "      <td>2021-06-30</td>\n",
       "      <td>714.196</td>\n",
       "      <td>727.653</td>\n",
       "      <td>6</td>\n",
       "      <td>2021</td>\n",
       "      <td>2016-12-16 00:00:00</td>\n",
       "      <td>54</td>\n",
       "    </tr>\n",
       "    <tr>\n",
       "      <th>2</th>\n",
       "      <td>ELP0066995</td>\n",
       "      <td>2021-04-30</td>\n",
       "      <td>611.937</td>\n",
       "      <td>660.573</td>\n",
       "      <td>4</td>\n",
       "      <td>2021</td>\n",
       "      <td>2016-12-16 00:00:00</td>\n",
       "      <td>52</td>\n",
       "    </tr>\n",
       "    <tr>\n",
       "      <th>3</th>\n",
       "      <td>ELP0066995</td>\n",
       "      <td>2021-08-31</td>\n",
       "      <td>555.781</td>\n",
       "      <td>717.557</td>\n",
       "      <td>8</td>\n",
       "      <td>2021</td>\n",
       "      <td>2016-12-16 00:00:00</td>\n",
       "      <td>56</td>\n",
       "    </tr>\n",
       "    <tr>\n",
       "      <th>4</th>\n",
       "      <td>ELP0066995</td>\n",
       "      <td>2021-07-31</td>\n",
       "      <td>666.167</td>\n",
       "      <td>729.709</td>\n",
       "      <td>7</td>\n",
       "      <td>2021</td>\n",
       "      <td>2016-12-16 00:00:00</td>\n",
       "      <td>55</td>\n",
       "    </tr>\n",
       "  </tbody>\n",
       "</table>\n",
       "</div>"
      ],
      "text/plain": [
       "    system_id   prod_date      kWh      Est Months Years         pto_DATE_VAR  \\\n",
       "0  ELP0066995  2021-02-28  433.516  404.628      2  2021  2016-12-16 00:00:00   \n",
       "1  ELP0066995  2021-06-30  714.196  727.653      6  2021  2016-12-16 00:00:00   \n",
       "2  ELP0066995  2021-04-30  611.937  660.573      4  2021  2016-12-16 00:00:00   \n",
       "3  ELP0066995  2021-08-31  555.781  717.557      8  2021  2016-12-16 00:00:00   \n",
       "4  ELP0066995  2021-07-31  666.167  729.709      7  2021  2016-12-16 00:00:00   \n",
       "\n",
       "   Age  \n",
       "0   50  \n",
       "1   54  \n",
       "2   52  \n",
       "3   56  \n",
       "4   55  "
      ]
     },
     "execution_count": 7,
     "metadata": {},
     "output_type": "execute_result"
    }
   ],
   "source": [
    "connectionString = f'DRIVER={{ODBC Driver 17 for SQL Server}};SERVER={server};DATABASE={database};UID={username};PWD={password}'\n",
    "#print(connectionString)\n",
    "conn = pyodbc.connect(connectionString) \n",
    "query = \"SELECT * FROM [aops].[ds_month_prod_3]\"\n",
    "df_prod_t = pd.read_sql_query(query, conn)\n",
    "df_prod_t.head()\n",
    "# execution time :15 min  (4:09-4:25)"
   ]
  },
  {
   "cell_type": "code",
   "execution_count": null,
   "metadata": {},
   "outputs": [],
   "source": []
  },
  {
   "cell_type": "code",
   "execution_count": 8,
   "metadata": {},
   "outputs": [],
   "source": [
    "prod_t = df_prod_t[df_prod_t['kWh']>30].copy()\n",
    "prod_t = prod_t[prod_t['kWh']< 10000]\n",
    "prod_t = prod_t[prod_t['Est'] > 5]\n",
    "\n",
    "prod_t['Year'] = prod_t['Years'].astype(int)\n",
    "prod_t['Month_int'] = prod_t['Months'].astype(int)\n",
    "\n",
    "prod_t = prod_t[prod_t['system_id'] =='ELP0072132']\n",
    "# 2min"
   ]
  },
  {
   "cell_type": "code",
   "execution_count": 9,
   "metadata": {},
   "outputs": [
    {
     "data": {
      "text/plain": [
       "(23, 10)"
      ]
     },
     "execution_count": 9,
     "metadata": {},
     "output_type": "execute_result"
    }
   ],
   "source": [
    "prod_t.shape"
   ]
  },
  {
   "cell_type": "code",
   "execution_count": null,
   "metadata": {},
   "outputs": [],
   "source": []
  },
  {
   "cell_type": "markdown",
   "metadata": {},
   "source": [
    "### *verify there is no missing value in both sets*"
   ]
  },
  {
   "cell_type": "code",
   "execution_count": 11,
   "metadata": {},
   "outputs": [
    {
     "name": "stdout",
     "output_type": "stream",
     "text": [
      "there is 0 missing value(s) in the train set\n",
      "~~~~~~~~~~~~~~~~~~~~~~~~~~~~~~~~~~~~~~~~~~~~~~~~~~\n"
     ]
    }
   ],
   "source": [
    "print('there is {} missing value(s) in the train set'.format(prod_t.isna().sum().sum()))\n",
    "print('~' * 50)\n",
    "#print('there is {} missing value(s) in the test set'.format(insur_s.isna().sum().sum()))"
   ]
  },
  {
   "cell_type": "code",
   "execution_count": 57,
   "metadata": {
    "scrolled": true
   },
   "outputs": [
    {
     "data": {
      "text/plain": [
       "system_id        object\n",
       "prod_date        object\n",
       "kWh             float64\n",
       "Est             float64\n",
       "Months           object\n",
       "Years            object\n",
       "pto_DATE_VAR     object\n",
       "Age               int64\n",
       "Year              int32\n",
       "Month_int         int32\n",
       "dtype: object"
      ]
     },
     "execution_count": 57,
     "metadata": {},
     "output_type": "execute_result"
    }
   ],
   "source": [
    "prod_t.dtypes"
   ]
  },
  {
   "cell_type": "markdown",
   "metadata": {},
   "source": [
    "<a id='EDA'></a>\n",
    "## <font color='blue'>2.- Exploratory Data Analysis </font>\n",
    "\n"
   ]
  },
  {
   "cell_type": "code",
   "execution_count": 10,
   "metadata": {},
   "outputs": [
    {
     "data": {
      "text/plain": [
       "Year\n",
       "2021    12\n",
       "2022     4\n",
       "2023     7\n",
       "dtype: int64"
      ]
     },
     "execution_count": 10,
     "metadata": {},
     "output_type": "execute_result"
    }
   ],
   "source": [
    "prod_t.groupby('Year').size()"
   ]
  },
  {
   "cell_type": "code",
   "execution_count": 11,
   "metadata": {},
   "outputs": [
    {
     "data": {
      "text/plain": [
       "count     23.000\n",
       "mean     465.187\n",
       "std       99.804\n",
       "min      257.586\n",
       "25%      395.742\n",
       "50%      474.243\n",
       "75%      546.082\n",
       "max      583.433\n",
       "Name: kWh, dtype: float64"
      ]
     },
     "execution_count": 11,
     "metadata": {},
     "output_type": "execute_result"
    }
   ],
   "source": [
    "prod_t['kWh'].describe().round(3)"
   ]
  },
  {
   "cell_type": "code",
   "execution_count": 12,
   "metadata": {},
   "outputs": [
    {
     "data": {
      "text/plain": [
       "count     23.000\n",
       "mean     477.941\n",
       "std      117.926\n",
       "min      288.523\n",
       "25%      371.486\n",
       "50%      493.061\n",
       "75%      579.711\n",
       "max      648.566\n",
       "Name: Est, dtype: float64"
      ]
     },
     "execution_count": 12,
     "metadata": {},
     "output_type": "execute_result"
    }
   ],
   "source": [
    "prod_t['Est'].describe().round(3)"
   ]
  },
  {
   "cell_type": "markdown",
   "metadata": {},
   "source": [
    "***Analysis***\n",
    "\n",
    "By removing the outliers (records where kWh <1 and kWh > 200) the data is more consistent.\n",
    "\n",
    "See the statistics between kWh vs Est"
   ]
  },
  {
   "cell_type": "code",
   "execution_count": 17,
   "metadata": {},
   "outputs": [
    {
     "data": {
      "text/plain": [
       "<bound method DataFrame.info of         system_id   prod_date      kWh       Est Months Years  \\\n",
       "34784  ELP0072132  2023-06-30  543.302  623.9910      6  2023   \n",
       "34785  ELP0072132  2021-01-31  400.281  351.6082      1  2021   \n",
       "34786  ELP0072132  2022-02-28  424.629  372.8844      2  2022   \n",
       "34787  ELP0072132  2021-08-31  546.449  615.2787      8  2021   \n",
       "34788  ELP0072132  2023-01-31  317.500  346.3537      1  2023   \n",
       "34789  ELP0072132  2021-06-30  571.058  633.4560      6  2021   \n",
       "34790  ELP0072132  2021-05-31  583.433  632.8960      5  2021   \n",
       "34791  ELP0072132  2021-03-31  524.524  496.7874      3  2021   \n",
       "34792  ELP0072132  2021-07-31  578.747  648.5665      7  2021   \n",
       "34793  ELP0072132  2023-04-30  561.758  536.0100      4  2023   \n",
       "34794  ELP0072132  2021-12-31  257.586  325.0691     12  2021   \n",
       "34795  ELP0072132  2021-09-30  474.243  516.0900      9  2021   \n",
       "34796  ELP0072132  2023-03-31  447.245  489.3629      3  2023   \n",
       "34797  ELP0072132  2022-03-31  541.984  493.0612      3  2022   \n",
       "34798  ELP0072132  2022-01-31  347.229  348.9701      1  2022   \n",
       "34799  ELP0072132  2021-10-31  444.195  441.9019     10  2021   \n",
       "34800  ELP0072132  2021-11-30  382.785  378.3930     11  2021   \n",
       "34801  ELP0072132  2022-04-30  568.348  540.0630      4  2022   \n",
       "34802  ELP0072132  2023-05-31  516.136  623.4379      5  2023   \n",
       "34803  ELP0072132  2023-07-31  287.366  288.5232      7  2023   \n",
       "34804  ELP0072132  2023-02-28  391.204  370.0872      2  2023   \n",
       "34805  ELP0072132  2021-04-30  545.716  544.1430      4  2021   \n",
       "34806  ELP0072132  2021-02-28  443.573  375.7012      2  2021   \n",
       "\n",
       "              pto_DATE_VAR  Age  Year  \n",
       "34784  2017-07-17 00:00:00   71  2023  \n",
       "34785  2017-07-17 00:00:00   42  2021  \n",
       "34786  2017-07-17 00:00:00   55  2022  \n",
       "34787  2017-07-17 00:00:00   49  2021  \n",
       "34788  2017-07-17 00:00:00   66  2023  \n",
       "34789  2017-07-17 00:00:00   47  2021  \n",
       "34790  2017-07-17 00:00:00   46  2021  \n",
       "34791  2017-07-17 00:00:00   44  2021  \n",
       "34792  2017-07-17 00:00:00   48  2021  \n",
       "34793  2017-07-17 00:00:00   69  2023  \n",
       "34794  2017-07-17 00:00:00   53  2021  \n",
       "34795  2017-07-17 00:00:00   50  2021  \n",
       "34796  2017-07-17 00:00:00   68  2023  \n",
       "34797  2017-07-17 00:00:00   56  2022  \n",
       "34798  2017-07-17 00:00:00   54  2022  \n",
       "34799  2017-07-17 00:00:00   51  2021  \n",
       "34800  2017-07-17 00:00:00   52  2021  \n",
       "34801  2017-07-17 00:00:00   57  2022  \n",
       "34802  2017-07-17 00:00:00   70  2023  \n",
       "34803  2017-07-17 00:00:00   72  2023  \n",
       "34804  2017-07-17 00:00:00   67  2023  \n",
       "34805  2017-07-17 00:00:00   45  2021  \n",
       "34806  2017-07-17 00:00:00   43  2021  >"
      ]
     },
     "execution_count": 17,
     "metadata": {},
     "output_type": "execute_result"
    }
   ],
   "source": [
    "prod_t.info"
   ]
  },
  {
   "cell_type": "code",
   "execution_count": 16,
   "metadata": {},
   "outputs": [
    {
     "data": {
      "text/plain": [
       "Month_int\n",
       "1     0.130435\n",
       "2     0.130435\n",
       "3     0.130435\n",
       "4     0.130435\n",
       "6     0.086957\n",
       "5     0.086957\n",
       "7     0.086957\n",
       "8     0.043478\n",
       "12    0.043478\n",
       "9     0.043478\n",
       "10    0.043478\n",
       "11    0.043478\n",
       "Name: proportion, dtype: float64"
      ]
     },
     "execution_count": 16,
     "metadata": {},
     "output_type": "execute_result"
    }
   ],
   "source": [
    "prod_t['Month_int'].value_counts(normalize=True)"
   ]
  },
  {
   "cell_type": "markdown",
   "metadata": {},
   "source": [
    "***Production by Month***\n",
    "\n",
    "Years 2021, 2022, 2023"
   ]
  },
  {
   "cell_type": "code",
   "execution_count": 13,
   "metadata": {},
   "outputs": [
    {
     "data": {
      "text/plain": [
       "<matplotlib.collections.PathCollection at 0x269f4a01cd0>"
      ]
     },
     "execution_count": 13,
     "metadata": {},
     "output_type": "execute_result"
    },
    {
     "data": {
      "image/png": "[encoded data removed]",
      "text/plain": [
       "<Figure size 500x400 with 1 Axes>"
      ]
     },
     "metadata": {},
     "output_type": "display_data"
    }
   ],
   "source": [
    "fig, ax=plt.subplots(1,1,figsize=(5,4))\n",
    "plt.scatter(prod_t.Months.astype(int), prod_t.kWh )\n"
   ]
  },
  {
   "cell_type": "markdown",
   "metadata": {},
   "source": [
    "***Analysis***\n",
    "\n",
    "The data is imbalanced, there are more labels for 0 than for 1"
   ]
  },
  {
   "cell_type": "code",
   "execution_count": 14,
   "metadata": {},
   "outputs": [
    {
     "data": {
      "text/plain": [
       "<Axes: >"
      ]
     },
     "execution_count": 14,
     "metadata": {},
     "output_type": "execute_result"
    },
    {
     "data": {
      "image/png": "[encoded data removed]",
      "text/plain": [
       "<Figure size 800x800 with 2 Axes>"
      ]
     },
     "metadata": {},
     "output_type": "display_data"
    }
   ],
   "source": [
    "# get the correlation matrix for visualization and for a closer look later\n",
    "corr = prod_t.drop(labels=[ 'system_id', 'prod_date', 'pto_DATE_VAR', 'Years', 'Months'], axis=1).corr()\n",
    "\n",
    "# prepare tools for making a half-matrix correlation heatmap\n",
    "mask = np.triu(np.ones_like(corr, bool))\n",
    "f, ax = plt.subplots(1,1, figsize=(8, 8))\n",
    "cmap = sns.diverging_palette(220, 10, as_cmap=True)\n",
    "\n",
    "# plot heatmap\n",
    "sns.heatmap(corr, mask=mask, cmap=cmap, vmax=1, center=0.1, square=True, ax=ax, \n",
    "            linewidths=.5, cbar_kws={'shrink': .75})"
   ]
  },
  {
   "cell_type": "code",
   "execution_count": 15,
   "metadata": {},
   "outputs": [
    {
     "data": {
      "text/html": [
       "<div>\n",
       "<style scoped>\n",
       "    .dataframe tbody tr th:only-of-type {\n",
       "        vertical-align: middle;\n",
       "    }\n",
       "\n",
       "    .dataframe tbody tr th {\n",
       "        vertical-align: top;\n",
       "    }\n",
       "\n",
       "    .dataframe thead th {\n",
       "        text-align: right;\n",
       "    }\n",
       "</style>\n",
       "<table border=\"1\" class=\"dataframe\">\n",
       "  <thead>\n",
       "    <tr style=\"text-align: right;\">\n",
       "      <th></th>\n",
       "      <th>kWh</th>\n",
       "      <th>Est</th>\n",
       "      <th>Age</th>\n",
       "      <th>Year</th>\n",
       "      <th>Month_int</th>\n",
       "    </tr>\n",
       "  </thead>\n",
       "  <tbody>\n",
       "    <tr>\n",
       "      <th>kWh</th>\n",
       "      <td>1.000000</td>\n",
       "      <td>0.909862</td>\n",
       "      <td>-0.219855</td>\n",
       "      <td>-0.182785</td>\n",
       "      <td>-0.070111</td>\n",
       "    </tr>\n",
       "    <tr>\n",
       "      <th>Est</th>\n",
       "      <td>0.909862</td>\n",
       "      <td>1.000000</td>\n",
       "      <td>-0.088729</td>\n",
       "      <td>-0.124912</td>\n",
       "      <td>0.141164</td>\n",
       "    </tr>\n",
       "    <tr>\n",
       "      <th>Age</th>\n",
       "      <td>-0.219855</td>\n",
       "      <td>-0.088729</td>\n",
       "      <td>1.000000</td>\n",
       "      <td>0.953726</td>\n",
       "      <td>-0.086455</td>\n",
       "    </tr>\n",
       "    <tr>\n",
       "      <th>Year</th>\n",
       "      <td>-0.182785</td>\n",
       "      <td>-0.124912</td>\n",
       "      <td>0.953726</td>\n",
       "      <td>1.000000</td>\n",
       "      <td>-0.382005</td>\n",
       "    </tr>\n",
       "    <tr>\n",
       "      <th>Month_int</th>\n",
       "      <td>-0.070111</td>\n",
       "      <td>0.141164</td>\n",
       "      <td>-0.086455</td>\n",
       "      <td>-0.382005</td>\n",
       "      <td>1.000000</td>\n",
       "    </tr>\n",
       "  </tbody>\n",
       "</table>\n",
       "</div>"
      ],
      "text/plain": [
       "                kWh       Est       Age      Year  Month_int\n",
       "kWh        1.000000  0.909862 -0.219855 -0.182785  -0.070111\n",
       "Est        0.909862  1.000000 -0.088729 -0.124912   0.141164\n",
       "Age       -0.219855 -0.088729  1.000000  0.953726  -0.086455\n",
       "Year      -0.182785 -0.124912  0.953726  1.000000  -0.382005\n",
       "Month_int -0.070111  0.141164 -0.086455 -0.382005   1.000000"
      ]
     },
     "execution_count": 15,
     "metadata": {},
     "output_type": "execute_result"
    }
   ],
   "source": [
    "corr"
   ]
  },
  {
   "cell_type": "markdown",
   "metadata": {},
   "source": [
    "***Analysis***\n",
    "\n",
    "There is a Strong correlation between kWh and Est (Actual Production and Estimated Production)"
   ]
  },
  {
   "cell_type": "markdown",
   "metadata": {},
   "source": []
  },
  {
   "cell_type": "markdown",
   "metadata": {},
   "source": [
    "# Preprocess data"
   ]
  },
  {
   "cell_type": "markdown",
   "metadata": {},
   "source": [
    "##### Dependent Variables : kWh\n",
    "##### Independent Variables : Est, Year, Months"
   ]
  },
  {
   "cell_type": "code",
   "execution_count": 84,
   "metadata": {},
   "outputs": [
    {
     "name": "stdout",
     "output_type": "stream",
     "text": [
      "<bound method NDFrame.head of             Est  Age  Year\n",
      "34784  623.9910   71  2023\n",
      "34785  351.6082   42  2021\n",
      "34786  372.8844   55  2022\n",
      "34787  615.2787   49  2021\n",
      "34788  346.3537   66  2023\n",
      "34789  633.4560   47  2021\n",
      "34790  632.8960   46  2021\n",
      "34791  496.7874   44  2021\n",
      "34792  648.5665   48  2021\n",
      "34793  536.0100   69  2023\n",
      "34794  325.0691   53  2021\n",
      "34795  516.0900   50  2021\n",
      "34796  489.3629   68  2023\n",
      "34797  493.0612   56  2022\n",
      "34798  348.9701   54  2022\n",
      "34799  441.9019   51  2021\n",
      "34800  378.3930   52  2021\n",
      "34801  540.0630   57  2022\n",
      "34802  623.4379   70  2023\n",
      "34803  288.5232   72  2023\n",
      "34804  370.0872   67  2023\n",
      "34805  544.1430   45  2021\n",
      "34806  375.7012   43  2021>\n"
     ]
    }
   ],
   "source": [
    "X = prod_t.drop(columns=['system_id', 'kWh', 'prod_date', 'pto_DATE_VAR', 'Years', 'Months', 'Month_int'])\n",
    "y = prod_t[['kWh']].copy()\n",
    "print(X.head)\n",
    "# 2 min"
   ]
  },
  {
   "cell_type": "code",
   "execution_count": 21,
   "metadata": {},
   "outputs": [
    {
     "name": "stdout",
     "output_type": "stream",
     "text": [
      "<bound method NDFrame.head of 34784    543.302\n",
      "34785    400.281\n",
      "34786    424.629\n",
      "34787    546.449\n",
      "34788    317.500\n",
      "34789    571.058\n",
      "34790    583.433\n",
      "34791    524.524\n",
      "34792    578.747\n",
      "34793    561.758\n",
      "34794    257.586\n",
      "34795    474.243\n",
      "34796    447.245\n",
      "34797    541.984\n",
      "34798    347.229\n",
      "34799    444.195\n",
      "34800    382.785\n",
      "34801    568.348\n",
      "34802    516.136\n",
      "34803    287.366\n",
      "34804    391.204\n",
      "34805    545.716\n",
      "34806    443.573\n",
      "Name: kWh, dtype: float64>\n"
     ]
    }
   ],
   "source": [
    "print(y.head)"
   ]
  },
  {
   "cell_type": "markdown",
   "metadata": {},
   "source": [
    "#### Split the sample in Train and Test data sets."
   ]
  },
  {
   "cell_type": "code",
   "execution_count": 85,
   "metadata": {},
   "outputs": [],
   "source": [
    "# Performing the train-test split\n",
    "X_train, X_test, y_train, y_test = train_test_split(X, y, test_size=0.3, random_state=random_state, shuffle=True)\n",
    "#1 min"
   ]
  },
  {
   "cell_type": "markdown",
   "metadata": {},
   "source": [
    "### *Column transformer: streamline data preprocessing on train and test sets*"
   ]
  },
  {
   "cell_type": "markdown",
   "metadata": {},
   "source": [
    "#### ont-hot-encoder"
   ]
  },
  {
   "cell_type": "code",
   "execution_count": 24,
   "metadata": {},
   "outputs": [],
   "source": [
    "onehot_encoder = OneHotEncoder(drop='first')\n",
    "# prepare list of column labels for one-hot-encoder\n",
    "cols_onehot = ['Months']"
   ]
  },
  {
   "cell_type": "markdown",
   "metadata": {},
   "source": [
    "#### min-max-norm"
   ]
  },
  {
   "cell_type": "code",
   "execution_count": null,
   "metadata": {},
   "outputs": [],
   "source": [
    "## Standardization of data - Test\n",
    "mmn_scaler = MinMaxScaler()\n",
    "\n",
    "# prepare list of column labels for mmn-norm: those columns in X_train that are not in cols_onehot\n",
    "cols_mmn_scale = X_train.drop(columns=cols_onehot).columns.tolist()"
   ]
  },
  {
   "cell_type": "code",
   "execution_count": 86,
   "metadata": {},
   "outputs": [],
   "source": [
    "## Standardization of data - No Onehot encoder\n",
    "mmn_scaler = MinMaxScaler()\n",
    "\n",
    "# prepare list of column labels for mmn-norm: those columns in X_train that are not in cols_onehot\n",
    "cols_mmn_scale = X_train.columns.tolist()"
   ]
  },
  {
   "cell_type": "code",
   "execution_count": 87,
   "metadata": {},
   "outputs": [
    {
     "name": "stdout",
     "output_type": "stream",
     "text": [
      "['Est', 'Age', 'Year']\n"
     ]
    }
   ],
   "source": [
    "print(cols_mmn_scale)"
   ]
  },
  {
   "cell_type": "markdown",
   "metadata": {},
   "source": [
    "### column transformer: X_train and X_test"
   ]
  },
  {
   "cell_type": "code",
   "execution_count": 93,
   "metadata": {},
   "outputs": [
    {
     "name": "stdout",
     "output_type": "stream",
     "text": [
      "query finished successfully            0         1    2\n",
      "0   1.000000  0.200000  0.0\n",
      "1   0.698638  0.500000  0.5\n",
      "2   0.426001  0.300000  0.0\n",
      "3   0.632054  0.266667  0.0\n",
      "4   0.175215  0.000000  0.0\n",
      "5   0.000000  1.000000  1.0\n",
      "6   0.578442  0.066667  0.0\n",
      "7   0.687381  0.900000  1.0\n",
      "8   0.907545  0.233333  0.0\n",
      "9   0.167888  0.400000  0.5\n",
      "10  0.234308  0.433333  0.5\n",
      "11  0.557821  0.866667  1.0\n",
      "12  0.226539  0.833333  1.0\n",
      "13  0.568093  0.466667  0.5\n",
      "14  0.242132  0.033333  0.0\n",
      "15  0.958031  0.166667  0.0\n"
     ]
    }
   ],
   "source": [
    "## NO one_hot_encoder\n",
    "#transformer = make_column_transformer ((mmn_scaler, cols_mmn_scale))\n",
    "\n",
    "# use fit_transform() to fit train set X vars\n",
    "X_train_processed = mmn_scaler.fit_transform(X_train)\n",
    "#X_train_processed = X_train_processed.toarray()\n",
    "X_train_processed = pd.DataFrame(X_train_processed)\n",
    "\n",
    "print(f'query finished successfully {X_train_processed}')\n",
    "# start time: 9:52"
   ]
  },
  {
   "cell_type": "code",
   "execution_count": 36,
   "metadata": {},
   "outputs": [
    {
     "name": "stdout",
     "output_type": "stream",
     "text": [
      "query finished successfully\n"
     ]
    }
   ],
   "source": [
    "transformer = make_column_transformer((onehot_encoder, cols_onehot), (mmn_scaler, cols_mmn_scale))\n",
    "\n",
    "# use fit_transform() to fit train set X vars\n",
    "X_train_processed = transformer.fit_transform(X_train)\n",
    "#X_train_processed = X_train_processed.toarray()\n",
    "X_train_processed = pd.DataFrame(X_train_processed)\n",
    "\n",
    "print('query finished successfully')\n",
    "# start time: 9:52"
   ]
  },
  {
   "cell_type": "code",
   "execution_count": 96,
   "metadata": {},
   "outputs": [],
   "source": [
    "# NO one_hot_enconder\n",
    "# once fitted to train set, only use transform() on the test set X vars\n",
    "X_test_processed = mmn_scaler.transform(X_test)\n",
    "X_test_processed = X_test_processed\n",
    "#X_test_processed = pd.DataFrame(X_test_processed)\n"
   ]
  },
  {
   "cell_type": "markdown",
   "metadata": {},
   "source": [
    "### Column Transformer :  Y_test and Y_train"
   ]
  },
  {
   "cell_type": "code",
   "execution_count": 97,
   "metadata": {},
   "outputs": [],
   "source": [
    "# Since y is a quantitative variable, with Gaussian distribution, we apply Standardization\n",
    "sc = StandardScaler()\n",
    "\n",
    "\n",
    "y_train_processed = pd.DataFrame(sc.fit_transform(y_train), columns = ['Prod'])\n",
    "y_test_processed = pd.DataFrame(sc.transform(y_test), columns = ['Prod'])"
   ]
  },
  {
   "cell_type": "code",
   "execution_count": 99,
   "metadata": {},
   "outputs": [
    {
     "name": "stdout",
     "output_type": "stream",
     "text": [
      "       Prod\n",
      "0  1.244948\n",
      "1  1.123610\n",
      "2 -0.325044\n",
      "3  0.025565\n",
      "4 -0.837446\n"
     ]
    }
   ],
   "source": [
    "print(y_train_processed.head())"
   ]
  },
  {
   "cell_type": "code",
   "execution_count": 61,
   "metadata": {},
   "outputs": [
    {
     "data": {
      "text/html": [
       "<div>\n",
       "<style scoped>\n",
       "    .dataframe tbody tr th:only-of-type {\n",
       "        vertical-align: middle;\n",
       "    }\n",
       "\n",
       "    .dataframe tbody tr th {\n",
       "        vertical-align: top;\n",
       "    }\n",
       "\n",
       "    .dataframe thead th {\n",
       "        text-align: right;\n",
       "    }\n",
       "</style>\n",
       "<table border=\"1\" class=\"dataframe\">\n",
       "  <thead>\n",
       "    <tr style=\"text-align: right;\">\n",
       "      <th></th>\n",
       "      <th>0</th>\n",
       "      <th>1</th>\n",
       "      <th>2</th>\n",
       "    </tr>\n",
       "  </thead>\n",
       "  <tbody>\n",
       "    <tr>\n",
       "      <th>0</th>\n",
       "      <td>1.000000</td>\n",
       "      <td>0.200000</td>\n",
       "      <td>0.0</td>\n",
       "    </tr>\n",
       "    <tr>\n",
       "      <th>1</th>\n",
       "      <td>0.698638</td>\n",
       "      <td>0.500000</td>\n",
       "      <td>0.5</td>\n",
       "    </tr>\n",
       "    <tr>\n",
       "      <th>2</th>\n",
       "      <td>0.426001</td>\n",
       "      <td>0.300000</td>\n",
       "      <td>0.0</td>\n",
       "    </tr>\n",
       "    <tr>\n",
       "      <th>3</th>\n",
       "      <td>0.632054</td>\n",
       "      <td>0.266667</td>\n",
       "      <td>0.0</td>\n",
       "    </tr>\n",
       "    <tr>\n",
       "      <th>4</th>\n",
       "      <td>0.175215</td>\n",
       "      <td>0.000000</td>\n",
       "      <td>0.0</td>\n",
       "    </tr>\n",
       "  </tbody>\n",
       "</table>\n",
       "</div>"
      ],
      "text/plain": [
       "          0         1    2\n",
       "0  1.000000  0.200000  0.0\n",
       "1  0.698638  0.500000  0.5\n",
       "2  0.426001  0.300000  0.0\n",
       "3  0.632054  0.266667  0.0\n",
       "4  0.175215  0.000000  0.0"
      ]
     },
     "execution_count": 61,
     "metadata": {},
     "output_type": "execute_result"
    }
   ],
   "source": [
    "X_train_processed.head()\n"
   ]
  },
  {
   "cell_type": "code",
   "execution_count": 102,
   "metadata": {},
   "outputs": [
    {
     "data": {
      "text/plain": [
       "(16, 3)"
      ]
     },
     "metadata": {},
     "output_type": "display_data"
    },
    {
     "data": {
      "text/plain": [
       "(16, 1)"
      ]
     },
     "metadata": {},
     "output_type": "display_data"
    },
    {
     "data": {
      "text/plain": [
       "(7, 3)"
      ]
     },
     "metadata": {},
     "output_type": "display_data"
    },
    {
     "data": {
      "text/plain": [
       "(7, 1)"
      ]
     },
     "metadata": {},
     "output_type": "display_data"
    }
   ],
   "source": [
    "display(X_train_processed.shape, y_train_processed.shape,X_test_processed.shape,y_test_processed.shape)"
   ]
  },
  {
   "cell_type": "markdown",
   "metadata": {},
   "source": [
    " "
   ]
  },
  {
   "cell_type": "code",
   "execution_count": 41,
   "metadata": {},
   "outputs": [
    {
     "data": {
      "text/plain": [
       "34784    543.302\n",
       "34785    400.281\n",
       "34786    424.629\n",
       "34787    546.449\n",
       "34788    317.500\n",
       "Name: kWh, dtype: float64"
      ]
     },
     "execution_count": 41,
     "metadata": {},
     "output_type": "execute_result"
    }
   ],
   "source": [
    "prod_t['kWh'].head(5)"
   ]
  },
  {
   "cell_type": "markdown",
   "metadata": {},
   "source": [
    "<a id='Model_development'></a>\n",
    "## <font color = 'blue'>3.- Model Development and Evaluation</font>"
   ]
  },
  {
   "cell_type": "code",
   "execution_count": 103,
   "metadata": {},
   "outputs": [],
   "source": [
    "X_tr = X_train_processed.squeeze()\n",
    "X_ts = X_test_processed.squeeze()\n",
    "y_tr = y_train_processed.squeeze()\n",
    "y_ts = y_test_processed.squeeze()\n",
    "\n"
   ]
  },
  {
   "cell_type": "code",
   "execution_count": 108,
   "metadata": {},
   "outputs": [
    {
     "data": {
      "text/plain": [
       "((16, 3), (16,), (7, 3), (7,))"
      ]
     },
     "execution_count": 108,
     "metadata": {},
     "output_type": "execute_result"
    }
   ],
   "source": [
    "X_tr.shape, y_tr.shape, X_ts.shape, y_ts.shape"
   ]
  },
  {
   "cell_type": "code",
   "execution_count": 44,
   "metadata": {},
   "outputs": [
    {
     "data": {
      "text/html": [
       "<div>\n",
       "<style scoped>\n",
       "    .dataframe tbody tr th:only-of-type {\n",
       "        vertical-align: middle;\n",
       "    }\n",
       "\n",
       "    .dataframe tbody tr th {\n",
       "        vertical-align: top;\n",
       "    }\n",
       "\n",
       "    .dataframe thead th {\n",
       "        text-align: right;\n",
       "    }\n",
       "</style>\n",
       "<table border=\"1\" class=\"dataframe\">\n",
       "  <thead>\n",
       "    <tr style=\"text-align: right;\">\n",
       "      <th></th>\n",
       "      <th>0</th>\n",
       "      <th>1</th>\n",
       "      <th>2</th>\n",
       "    </tr>\n",
       "  </thead>\n",
       "  <tbody>\n",
       "    <tr>\n",
       "      <th>min</th>\n",
       "      <td>0.00</td>\n",
       "      <td>0.00</td>\n",
       "      <td>0.00</td>\n",
       "    </tr>\n",
       "    <tr>\n",
       "      <th>max</th>\n",
       "      <td>1.00</td>\n",
       "      <td>1.00</td>\n",
       "      <td>1.00</td>\n",
       "    </tr>\n",
       "    <tr>\n",
       "      <th>mean</th>\n",
       "      <td>0.50</td>\n",
       "      <td>0.42</td>\n",
       "      <td>0.38</td>\n",
       "    </tr>\n",
       "    <tr>\n",
       "      <th>std</th>\n",
       "      <td>0.31</td>\n",
       "      <td>0.32</td>\n",
       "      <td>0.43</td>\n",
       "    </tr>\n",
       "  </tbody>\n",
       "</table>\n",
       "</div>"
      ],
      "text/plain": [
       "         0     1     2\n",
       "min   0.00  0.00  0.00\n",
       "max   1.00  1.00  1.00\n",
       "mean  0.50  0.42  0.38\n",
       "std   0.31  0.32  0.43"
      ]
     },
     "metadata": {},
     "output_type": "display_data"
    },
    {
     "data": {
      "text/html": [
       "<div>\n",
       "<style scoped>\n",
       "    .dataframe tbody tr th:only-of-type {\n",
       "        vertical-align: middle;\n",
       "    }\n",
       "\n",
       "    .dataframe tbody tr th {\n",
       "        vertical-align: top;\n",
       "    }\n",
       "\n",
       "    .dataframe thead th {\n",
       "        text-align: right;\n",
       "    }\n",
       "</style>\n",
       "<table border=\"1\" class=\"dataframe\">\n",
       "  <thead>\n",
       "    <tr style=\"text-align: right;\">\n",
       "      <th></th>\n",
       "      <th>0</th>\n",
       "      <th>1</th>\n",
       "      <th>2</th>\n",
       "    </tr>\n",
       "  </thead>\n",
       "  <tbody>\n",
       "    <tr>\n",
       "      <th>min</th>\n",
       "      <td>0.10</td>\n",
       "      <td>0.10</td>\n",
       "      <td>0.00</td>\n",
       "    </tr>\n",
       "    <tr>\n",
       "      <th>max</th>\n",
       "      <td>0.96</td>\n",
       "      <td>0.97</td>\n",
       "      <td>1.00</td>\n",
       "    </tr>\n",
       "    <tr>\n",
       "      <th>mean</th>\n",
       "      <td>0.58</td>\n",
       "      <td>0.52</td>\n",
       "      <td>0.43</td>\n",
       "    </tr>\n",
       "    <tr>\n",
       "      <th>std</th>\n",
       "      <td>0.39</td>\n",
       "      <td>0.37</td>\n",
       "      <td>0.53</td>\n",
       "    </tr>\n",
       "  </tbody>\n",
       "</table>\n",
       "</div>"
      ],
      "text/plain": [
       "         0     1     2\n",
       "min   0.10  0.10  0.00\n",
       "max   0.96  0.97  1.00\n",
       "mean  0.58  0.52  0.43\n",
       "std   0.39  0.37  0.53"
      ]
     },
     "metadata": {},
     "output_type": "display_data"
    }
   ],
   "source": [
    "# Review the data\n",
    "display(pd.DataFrame(X_tr).describe().round(2).loc[['min','max','mean','std']],\n",
    "        pd.DataFrame(X_ts).describe().round(2).loc[['min','max','mean','std']])"
   ]
  },
  {
   "cell_type": "markdown",
   "metadata": {},
   "source": [
    "## <b> Building the model</b>"
   ]
  },
  {
   "cell_type": "markdown",
   "metadata": {},
   "source": [
    "**The four model versions:**\n",
    "\n",
    "1. basic MLP, SGD\n",
    "1. MLP with L2 regularization, Adam\n",
    "1. MLP with L2 regularization, Adam, 10% train set allotted to validation set\n",
    "1. MLP with L2 regularization, Adam, 10% validation, improved activation functions\n",
    "\n",
    "MLP: Multi=Layer Perceptron"
   ]
  },
  {
   "cell_type": "markdown",
   "metadata": {},
   "source": [
    "### define a model"
   ]
  },
  {
   "cell_type": "code",
   "execution_count": 104,
   "metadata": {},
   "outputs": [],
   "source": [
    "model_notes_list = ['basic MLP, SGD', \n",
    "                    'MLP L2 regulariz, Adam', \n",
    "                    'MLP L2 regulariz, Adam, 10% validation set', \n",
    "                    'MLP L2 regulariz, Adam, 10% validation set, ReLU & Softmax']"
   ]
  },
  {
   "cell_type": "code",
   "execution_count": 70,
   "metadata": {},
   "outputs": [],
   "source": [
    "from sklearn.metrics import mean_squared_error"
   ]
  },
  {
   "cell_type": "code",
   "execution_count": 114,
   "metadata": {},
   "outputs": [
    {
     "name": "stdout",
     "output_type": "stream",
     "text": [
      "fitting:\n",
      "1/1 [==============================] - 0s 87ms/step\n",
      "Y_test Predicted\n",
      "[[-0.00404989]\n",
      " [-0.00400132]\n",
      " [-0.00492761]\n",
      " [-0.00493405]\n",
      " [-0.00392513]\n",
      " [-0.00393094]\n",
      " [-0.00511605]]\n",
      "inverse:\n",
      "1 Parameters: batch_size: 5 - epochs: 5 Accuracy: 199.82368736250544\n",
      "fitting:\n",
      "1/1 [==============================] - 0s 104ms/step\n",
      "Y_test Predicted\n",
      "[[-0.00107147]\n",
      " [-0.00100041]\n",
      " [-0.00083505]\n",
      " [-0.0008409 ]\n",
      " [-0.00075479]\n",
      " [-0.00073044]\n",
      " [-0.00118576]]\n",
      "inverse:\n",
      "2 Parameters: batch_size: 5 - epochs: 10 Accuracy: 199.96335703025198\n",
      "fitting:\n",
      "1/1 [==============================] - 0s 65ms/step\n",
      "Y_test Predicted\n",
      "[[-0.00970831]\n",
      " [-0.00434388]\n",
      " [ 0.01305202]\n",
      " [ 0.0131606 ]\n",
      " [ 0.0121268 ]\n",
      " [ 0.02066251]\n",
      " [-0.01530472]]\n",
      "inverse:\n",
      "3 Parameters: batch_size: 5 - epochs: 50 Accuracy: 200.16923404554814\n",
      "fitting:\n",
      "1/1 [==============================] - 0s 100ms/step\n",
      "Y_test Predicted\n",
      "[[-0.07485074]\n",
      " [-0.05860403]\n",
      " [-0.10692237]\n",
      " [-0.10942765]\n",
      " [ 0.00219523]\n",
      " [ 0.00522319]\n",
      " [-0.16700785]]\n",
      "inverse:\n",
      "4 Parameters: batch_size: 5 - epochs: 100 Accuracy: 197.09203001953887\n",
      "fitting:\n",
      "1/1 [==============================] - 0s 60ms/step\n",
      "Y_test Predicted\n",
      "[[0.00127122]\n",
      " [0.00137933]\n",
      " [0.00118368]\n",
      " [0.00119026]\n",
      " [0.00166005]\n",
      " [0.00184938]\n",
      " [0.00056563]]\n",
      "inverse:\n",
      "5 Parameters: batch_size: 10 - epochs: 5 Accuracy: 200.05194642234383\n",
      "fitting:\n",
      "1/1 [==============================] - 0s 103ms/step\n",
      "Y_test Predicted\n",
      "[[0.00046564]\n",
      " [0.00058828]\n",
      " [0.00064246]\n",
      " [0.00061949]\n",
      " [0.00104834]\n",
      " [0.00113788]\n",
      " [0.00022591]]\n",
      "inverse:\n",
      "6 Parameters: batch_size: 10 - epochs: 10 Accuracy: 200.02699062780908\n",
      "fitting:\n",
      "1/1 [==============================] - 0s 115ms/step\n",
      "Y_test Predicted\n",
      "[[-0.00818149]\n",
      " [-0.00284147]\n",
      " [ 0.00250793]\n",
      " [ 0.0022527 ]\n",
      " [ 0.01495367]\n",
      " [ 0.02085879]\n",
      " [-0.02241294]]\n",
      "inverse:\n",
      "7 Parameters: batch_size: 10 - epochs: 50 Accuracy: 200.04074391034732\n",
      "fitting:\n",
      "1/1 [==============================] - 0s 94ms/step\n",
      "Y_test Predicted\n",
      "[[-0.03467426]\n",
      " [-0.01931311]\n",
      " [-0.01645662]\n",
      " [-0.01780789]\n",
      " [ 0.03269231]\n",
      " [ 0.04664157]\n",
      " [-0.07808332]]\n",
      "inverse:\n",
      "8 Parameters: batch_size: 10 - epochs: 100 Accuracy: 199.50333706191898\n",
      "fitting:\n",
      "1/1 [==============================] - 0s 100ms/step\n",
      "Y_test Predicted\n",
      "[[-0.00258217]\n",
      " [-0.00254508]\n",
      " [-0.00161122]\n",
      " [-0.00161998]\n",
      " [-0.00202503]\n",
      " [-0.00175569]\n",
      " [-0.00230871]]\n",
      "inverse:\n",
      "9 Parameters: batch_size: 15 - epochs: 5 Accuracy: 199.917521648177\n",
      "fitting:\n",
      "1/1 [==============================] - 0s 112ms/step\n",
      "Y_test Predicted\n",
      "[[-0.00038883]\n",
      " [-0.00038345]\n",
      " [-0.00052467]\n",
      " [-0.00052968]\n",
      " [-0.00036893]\n",
      " [-0.000375  ]\n",
      " [-0.00054285]]\n",
      "inverse:\n",
      "10 Parameters: batch_size: 15 - epochs: 10 Accuracy: 199.9822264976869\n",
      "fitting:\n",
      "1/1 [==============================] - 0s 80ms/step\n",
      "Y_test Predicted\n",
      "[[-0.00701224]\n",
      " [-0.00645495]\n",
      " [-0.00584665]\n",
      " [-0.00583153]\n",
      " [-0.00477965]\n",
      " [-0.0040213 ]\n",
      " [-0.0087305 ]]\n",
      "inverse:\n",
      "11 Parameters: batch_size: 15 - epochs: 50 Accuracy: 199.75637160693748\n",
      "fitting:\n",
      "1/1 [==============================] - 0s 71ms/step\n",
      "Y_test Predicted\n",
      "[[-0.02554053]\n",
      " [-0.0211017 ]\n",
      " [-0.02865557]\n",
      " [-0.0290952 ]\n",
      " [-0.00543356]\n",
      " [-0.00391727]\n",
      " [-0.04730039]]\n",
      "inverse:\n",
      "12 Parameters: batch_size: 15 - epochs: 100 Accuracy: 199.0806496010396\n",
      "fitting:\n",
      "1/1 [==============================] - 0s 127ms/step\n",
      "Y_test Predicted\n",
      "[[0.00047887]\n",
      " [0.00048745]\n",
      " [0.00060567]\n",
      " [0.00059788]\n",
      " [0.00068417]\n",
      " [0.00075318]\n",
      " [0.00045307]]\n",
      "inverse:\n",
      "13 Parameters: batch_size: 20 - epochs: 5 Accuracy: 200.02317889400683\n",
      "fitting:\n",
      "1/1 [==============================] - 0s 85ms/step\n",
      "Y_test Predicted\n",
      "[[0.00049135]\n",
      " [0.00051779]\n",
      " [0.00072615]\n",
      " [0.00073744]\n",
      " [0.00055755]\n",
      " [0.00063061]\n",
      " [0.0004885 ]]\n",
      "inverse:\n",
      "14 Parameters: batch_size: 20 - epochs: 10 Accuracy: 200.0236875720871\n",
      "fitting:\n",
      "1/1 [==============================] - 0s 119ms/step\n",
      "Y_test Predicted\n",
      "[[-0.00174487]\n",
      " [-0.00103354]\n",
      " [ 0.00110776]\n",
      " [ 0.00105765]\n",
      " [ 0.00139894]\n",
      " [ 0.00243129]\n",
      " [-0.00206526]]\n",
      "inverse:\n",
      "15 Parameters: batch_size: 20 - epochs: 50 Accuracy: 200.00657620542745\n",
      "fitting:\n",
      "1/1 [==============================] - 0s 112ms/step\n",
      "Y_test Predicted\n",
      "[[-0.00415337]\n",
      " [ 0.00043771]\n",
      " [ 0.00086743]\n",
      " [ 0.00091868]\n",
      " [ 0.01392841]\n",
      " [ 0.01945067]\n",
      " [-0.02302195]]\n",
      "inverse:\n",
      "16 Parameters: batch_size: 20 - epochs: 100 Accuracy: 200.04811034305044\n"
     ]
    }
   ],
   "source": [
    "## VALIDATION to identify the best model\n",
    "\n",
    "\n",
    "from keras.models import Sequential\n",
    "from keras.layers import Dense\n",
    "def FunctionFindBestParams(X_tr, y_tr, X_ts, y_ts):\n",
    "    \n",
    "    # Defining the list of hyper parameters to try\n",
    "    batch_size_list=[5, 10, 15, 20]\n",
    "    epoch_list  =   [5, 10, 50, 100]\n",
    "    \n",
    "    SearchResultsData=pd.DataFrame(columns=['TrialNumber', 'Parameters', 'Accuracy'])\n",
    "    \n",
    "    # initializing the trials\n",
    "    TrialNumber=0\n",
    "    for batch_size_trial in batch_size_list:\n",
    "      \n",
    "        for epochs_trial in epoch_list:\n",
    "           \n",
    "            TrialNumber+=1\n",
    "            # create ANN model\n",
    "            model = Sequential()\n",
    "            # Defining the first layer of the model\n",
    "            model.add(Dense(units=5, input_dim=X_tr.shape[1], kernel_initializer='normal', activation='relu'))\n",
    " \n",
    "            # Defining the Second layer of the model\n",
    "            model.add(Dense(units=5, kernel_initializer='normal', activation='relu'))\n",
    " \n",
    "            # The output neuron is a single fully connected node \n",
    "            # Since we will be predicting a single number\n",
    "            model.add(Dense(1, kernel_initializer='normal'))\n",
    " \n",
    "            # Compiling the model\n",
    "            model.compile(loss='mean_squared_error', optimizer='adam')\n",
    "\n",
    "            print('fitting:')\n",
    "            # Fitting the ANN to the Training set\n",
    "            model.fit(X_tr, y_tr ,batch_size = batch_size_trial, epochs = epochs_trial, verbose=0)\n",
    "            \n",
    "\n",
    "            Y_ts_pred = model.predict(X_ts)\n",
    "            print('Y_test Predicted')\n",
    "            print(Y_ts_pred)\n",
    "            print('inverse:')\n",
    "            Y_ts_predicted = pd.DataFrame(Y_ts_pred)\n",
    "\n",
    "           # print('diff:')\n",
    "            diff_x_y_1 = y_ts- Y_ts_predicted #y_ts - Y_ts_pred\n",
    "            diff_x_y = np.abs(diff_x_y_1)\n",
    "            div_x_y = diff_x_y / y_ts #y_ts\n",
    "           # MAPE = np.mean(100 * (np.abs(y_ts - model.predict(X_ts))/y_ts))\n",
    "            MAPE = np.mean(100 *  div_x_y)\n",
    "            # printing the results of the current iteration\n",
    "\n",
    "            #cost, accuracy, auc, precision,recall ,false_negatives = model.evaluate(X_ts, y_ts)\n",
    "            \n",
    "            print(TrialNumber, 'Parameters:','batch_size:', batch_size_trial,'-', 'epochs:',epochs_trial, 'Accuracy:', 100-MAPE)\n",
    "            \n",
    "            #SearchResultsData=SearchResultsData.append(pd.DataFrame(data=[[TrialNumber, str(batch_size_trial)+'-'+str(epochs_trial), 100-MAPE]],\n",
    "                                                                   # columns=['TrialNumber', 'Parameters', 'Accuracy'] ))\n",
    "   # return(SearchResultsData)\n",
    " \n",
    " \n",
    "######################################################\n",
    "# Calling the function\n",
    "ResultsData=FunctionFindBestParams(X_tr, y_tr, X_ts, y_ts)\n",
    "\n",
    "#12:28"
   ]
  },
  {
   "cell_type": "markdown",
   "metadata": {},
   "source": [
    "Let's begin with a model with 7 hidden layers and 2 outputs. Two layers"
   ]
  },
  {
   "cell_type": "code",
   "execution_count": 115,
   "metadata": {},
   "outputs": [],
   "source": [
    "# universal variables\n",
    "m = X_tr.shape[1]; d = 11; t = 1\n",
    "\n",
    "# computing the cost after each minibatch\n",
    "minibatch_size = 5\n"
   ]
  },
  {
   "cell_type": "markdown",
   "metadata": {},
   "source": [
    "# <a id=10_epochs><font color = blue> Option1:10 epochs </font></a>\n"
   ]
  },
  {
   "cell_type": "code",
   "execution_count": 48,
   "metadata": {},
   "outputs": [],
   "source": [
    "epochs=50"
   ]
  },
  {
   "cell_type": "code",
   "execution_count": 116,
   "metadata": {},
   "outputs": [
    {
     "name": "stdout",
     "output_type": "stream",
     "text": [
      "step1: start 1708306753.8680942\n",
      "basic MLP, SGD\n",
      "step2: after optimizer 1708306754.1881578\n",
      "step3: score\n",
      "step4: score\n"
     ]
    }
   ],
   "source": [
    "print(f'step1: start {time()}')\n",
    "mlp_list=[]\n",
    "scores_list = []\n",
    "\n",
    "tf.random.set_seed(random_state)\n",
    "\n",
    "# track time\n",
    "start = time()\n",
    "sgd1 = keras.optimizers.Adam(learning_rate=0.00001)\n",
    "#1\n",
    "print(model_notes_list[0])\n",
    "mlp = keras.Sequential([keras.layers.Dense(d, input_shape=(m,), activation='sigmoid', name='hidden'),\n",
    "                        keras.layers.Dense(t, activation='sigmoid', name='output')])\n",
    "mlp.compile(optimizer= sgd1, loss='binary_crossentropy', metrics=['accuracy','AUC', 'Precision', 'Recall', 'FalsePositives'])\n",
    "\n",
    "print(f'step2: after optimizer {time()}')\n",
    "\n",
    "history = mlp.fit(x=X_tr, y=y_tr, batch_size=minibatch_size, epochs=epochs, verbose=0) #  class_weight=classWeight\n",
    "print(f'step3: score')\n",
    "\n",
    "scores = history.history\n",
    "\n",
    "print(f'step4: score')\n",
    "\n",
    "mlp_list.append(mlp); scores_list.append(scores)"
   ]
  },
  {
   "cell_type": "code",
   "execution_count": 117,
   "metadata": {},
   "outputs": [
    {
     "name": "stdout",
     "output_type": "stream",
     "text": [
      "1/1 [==============================] - 0s 452ms/step - loss: 0.6027 - accuracy: 0.0000e+00 - auc: 0.0000e+00 - precision: 1.0000 - recall: 0.2857 - false_positives: 0.0000e+00\n"
     ]
    }
   ],
   "source": [
    "for model in mlp_list:\n",
    "    cost, accuracy, auc, precision,recall ,false_positives = model.evaluate(X_ts, y_ts)\n",
    "\n"
   ]
  },
  {
   "cell_type": "code",
   "execution_count": 118,
   "metadata": {},
   "outputs": [
    {
     "name": "stdout",
     "output_type": "stream",
     "text": [
      "basic MLP, SGD\n",
      "\n",
      "MLP L2 regulariz, Adam\n",
      "\n",
      "MLP L2 regulariz, Adam, 10% validation set\n",
      "WARNING:tensorflow:5 out of the last 5 calls to <function Model.make_test_function.<locals>.test_function at 0x0000026989277100> triggered tf.function retracing. Tracing is expensive and the excessive number of tracings could be due to (1) creating @tf.function repeatedly in a loop, (2) passing tensors with different shapes, (3) passing Python objects instead of tensors. For (1), please define your @tf.function outside of the loop. For (2), @tf.function has reduce_retracing=True option that can avoid unnecessary retracing. For (3), please refer to https://www.tensorflow.org/guide/function#controlling_retracing and https://www.tensorflow.org/api_docs/python/tf/function for  more details.\n",
      "\n",
      "MLP L2 regulariz, Adam, 10% validation set, ReLU & Softmax\n",
      "\n",
      "Took 0 mins and 17 sec\n"
     ]
    }
   ],
   "source": [
    "# classWeight = compute_class_weight(class_weight='balanced', classes= np.unique(y_train), y = y_train) \n",
    "# classWeight = dict(enumerate(classWeight))\n",
    "\n",
    "mlp_list=[]\n",
    "scores_list = []\n",
    "\n",
    "tf.random.set_seed(random_state)\n",
    "\n",
    "# track time\n",
    "start = time()\n",
    "sgd1 = keras.optimizers.Adam(learning_rate=0.00001)\n",
    "#1\n",
    "print(model_notes_list[0])\n",
    "mlp = keras.Sequential([keras.layers.Dense(d, input_shape=(m,), activation='sigmoid', name='hidden'),\n",
    "                        keras.layers.Dense(t, activation='sigmoid', name='output')])\n",
    "mlp.compile(optimizer= sgd1, loss='binary_crossentropy', metrics=['accuracy','AUC', 'Precision', 'Recall', 'FalsePositives'])\n",
    "history = mlp.fit(x=X_tr, y=y_tr, batch_size=minibatch_size, epochs=epochs, verbose=0) #  class_weight=classWeight\n",
    "scores = history.history\n",
    "mlp_list.append(mlp); scores_list.append(scores)\n",
    "\n",
    "#2\n",
    "# with Regularization and Adam\n",
    "print('\\n' + model_notes_list[1])\n",
    "mlp = keras.Sequential([keras.layers.Dense(d, input_shape=(m,), activation='sigmoid', name='hidden', kernel_regularizer='l2'),\n",
    "                        keras.layers.Dense(t, activation='sigmoid', name='output', kernel_regularizer='l2')])\n",
    "mlp.compile(optimizer='adam', loss='binary_crossentropy', metrics=['accuracy','AUC', 'Precision', 'Recall','FalsePositives'])\n",
    "history = mlp.fit(x=X_tr, y=y_tr, batch_size=minibatch_size, epochs=epochs, verbose=0) # , class_weight=classWeight\n",
    "scores = history.history\n",
    "mlp_list.append(mlp); scores_list.append(scores)\n",
    "\n",
    "#3\n",
    "# MLP L2 regulariz, Adam, 10% validation set\n",
    "print('\\n' + model_notes_list[2])\n",
    "mlp = keras.Sequential([keras.layers.Dense(d, input_shape=(m,), activation='sigmoid', name='hidden', kernel_regularizer='l2'),\n",
    "                        keras.layers.Dense(t, activation='sigmoid', name='output', kernel_regularizer='l2')])\n",
    "mlp.compile(optimizer='adam', loss='binary_crossentropy', metrics=['accuracy','AUC', 'Precision', 'Recall', 'FalsePositives'])\n",
    "history = mlp.fit(x=X_tr, y=y_tr, batch_size=minibatch_size, epochs=epochs, verbose=0, validation_split=0.1)\n",
    "scores = history.history\n",
    "mlp_list.append(mlp); scores_list.append(scores)\n",
    "\n",
    "#4\n",
    "# MLP L2 regulariz, Adam, 10% validation set, ReLU & Softmax\n",
    "print('\\n' + model_notes_list[3])\n",
    "mlp = keras.Sequential([keras.layers.Dense(d, input_shape=(m,), activation='relu', name='hidden', kernel_regularizer='l2'),\n",
    "                        keras.layers.Dense(t, activation='softmax', name='output', kernel_regularizer='l2')])\n",
    "mlp.compile(optimizer='adam', loss='binary_crossentropy', metrics=['accuracy', 'AUC', 'Precision', 'Recall', 'FalsePositives'])\n",
    "history = mlp.fit(x=X_tr, y=y_tr, batch_size=minibatch_size, epochs=epochs, verbose=0, validation_split=0.1)\n",
    "scores = history.history\n",
    "mlp_list.append(mlp); scores_list.append(scores)\n",
    "\n",
    "# track time\n",
    "seconds = time() - start\n",
    "mins, sec = divmod(seconds, 60)   # <-- divmod() returns a tuple of (quotient, remainder) after division\n",
    "print('\\nTook {:.0f} mins and {:.0f} sec'.format(mins, sec))"
   ]
  },
  {
   "cell_type": "code",
   "execution_count": 120,
   "metadata": {
    "scrolled": true
   },
   "outputs": [
    {
     "name": "stdout",
     "output_type": "stream",
     "text": [
      "1/1 [==============================] - 0s 41ms/step - loss: 1.0627 - accuracy: 0.0000e+00 - auc: 0.0000e+00 - precision: 1.0000 - recall: 1.0000 - false_positives: 0.0000e+00\n",
      "1/1 [==============================] - 0s 41ms/step - loss: 0.6080 - accuracy: 0.0000e+00 - auc: 0.0000e+00 - precision: 0.0000e+00 - recall: 0.0000e+00 - false_positives: 0.0000e+00\n",
      "1/1 [==============================] - 0s 425ms/step - loss: 0.0759 - accuracy: 0.0000e+00 - auc: 0.0000e+00 - precision: 0.0000e+00 - recall: 0.0000e+00 - false_positives: 0.0000e+00\n",
      "WARNING:tensorflow:5 out of the last 56 calls to <function Model.make_test_function.<locals>.test_function at 0x000002698BF3DBC0> triggered tf.function retracing. Tracing is expensive and the excessive number of tracings could be due to (1) creating @tf.function repeatedly in a loop, (2) passing tensors with different shapes, (3) passing Python objects instead of tensors. For (1), please define your @tf.function outside of the loop. For (2), @tf.function has reduce_retracing=True option that can avoid unnecessary retracing. For (3), please refer to https://www.tensorflow.org/guide/function#controlling_retracing and https://www.tensorflow.org/api_docs/python/tf/function for  more details.\n",
      "1/1 [==============================] - 1s 533ms/step - loss: 0.0640 - accuracy: 0.0000e+00 - auc: 0.0000e+00 - precision: 1.0000 - recall: 1.0000 - false_positives: 0.0000e+00\n"
     ]
    }
   ],
   "source": [
    "test_cost_list = []\n",
    "test_accuracy_list = []\n",
    "test_auc_list = []\n",
    "test_fp_list = []\n",
    "test_f1score_list = []\n",
    "test_precision_list = []\n",
    "for model in mlp_list:\n",
    "    cost, accuracy, auc, precision,recall ,false_positives = model.evaluate(X_ts, y_ts)\n",
    "    test_cost_list.append(cost)\n",
    "    test_accuracy_list.append(accuracy)\n",
    "    test_auc_list.append(auc)\n",
    "    test_precision_list.append(precision)\n",
    "    test_fp_list.append(false_positives)\n",
    "  #  test_f1score_list.append(2.*(precision*recall)/(precision+recall))"
   ]
  },
  {
   "cell_type": "code",
   "execution_count": 121,
   "metadata": {},
   "outputs": [
    {
     "name": "stdout",
     "output_type": "stream",
     "text": [
      "--------------------------------------------------\n",
      "model: basic MLP, SGD\n",
      "test set cost: 1.0627\n",
      "test set accuracy: 0.0000\n",
      "test set AUC: 0.0000\n",
      "test set False Positives: 0.00\n",
      "--------------------------------------------------\n",
      "model: MLP L2 regulariz, Adam\n",
      "test set cost: 0.6080\n",
      "test set accuracy: 0.0000\n",
      "test set AUC: 0.0000\n",
      "test set False Positives: 0.00\n",
      "--------------------------------------------------\n",
      "model: MLP L2 regulariz, Adam, 10% validation set\n",
      "test set cost: 0.0759\n",
      "test set accuracy: 0.0000\n",
      "test set AUC: 0.0000\n",
      "test set False Positives: 0.00\n",
      "--------------------------------------------------\n",
      "model: MLP L2 regulariz, Adam, 10% validation set, ReLU & Softmax\n",
      "test set cost: 0.0640\n",
      "test set accuracy: 0.0000\n",
      "test set AUC: 0.0000\n",
      "test set False Positives: 0.00\n",
      "--------------------------------------------------\n"
     ]
    }
   ],
   "source": [
    "print('-'* 50)\n",
    "for i in range(4):\n",
    "    print(f'model: {model_notes_list[i]}')\n",
    "    print(f'test set cost: {test_cost_list[i]:.4f}')\n",
    "    print(f'test set accuracy: {test_accuracy_list[i]:.4f}')\n",
    "    print(f'test set AUC: {test_auc_list[i]:.4f}')\n",
    "    print(f'test set False Positives: {test_fp_list[i]:.2f}')\n",
    "    print('-'* 50)"
   ]
  },
  {
   "cell_type": "markdown",
   "metadata": {},
   "source": [
    "## Prepare the Score data"
   ]
  },
  {
   "cell_type": "markdown",
   "metadata": {},
   "source": [
    "### Compairing columns"
   ]
  },
  {
   "cell_type": "markdown",
   "metadata": {},
   "source": [
    "<a id='Summary'></a>\n",
    "## <font color = 'blue'>4.- Summary</font>"
   ]
  }
 ],
 "metadata": {
  "kernelspec": {
   "display_name": "Python 3 (ipykernel)",
   "language": "python",
   "name": "python3"
  },
  "language_info": {
   "codemirror_mode": {
    "name": "ipython",
    "version": 3
   },
   "file_extension": ".py",
   "mimetype": "text/x-python",
   "name": "python",
   "nbconvert_exporter": "python",
   "pygments_lexer": "ipython3",
   "version": "3.11.4"
  }
 },
 "nbformat": 4,
 "nbformat_minor": 4
}
